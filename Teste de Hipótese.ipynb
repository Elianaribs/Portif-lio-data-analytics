{
  "nbformat": 4,
  "nbformat_minor": 0,
  "metadata": {
    "colab": {
      "provenance": [],
      "authorship_tag": "ABX9TyNaqUpzqQADlKUn4olVgwHd",
      "include_colab_link": true
    },
    "kernelspec": {
      "name": "python3",
      "display_name": "Python 3"
    },
    "language_info": {
      "name": "python"
    }
  },
  "cells": [
    {
      "cell_type": "markdown",
      "metadata": {
        "id": "view-in-github",
        "colab_type": "text"
      },
      "source": [
        "<a href=\"https://colab.research.google.com/github/Elianaribs/Portifolio-data-analytics/blob/main/Teste%20de%20Hip%C3%B3tese.ipynb\" target=\"_parent\"><img src=\"https://colab.research.google.com/assets/colab-badge.svg\" alt=\"Open In Colab\"/></a>"
      ]
    },
    {
      "cell_type": "markdown",
      "source": [
        "#Considerando a base de dados experimento_test_ab.csv responda as questões abaixo:"
      ],
      "metadata": {
        "id": "up5fLhNthijF"
      }
    },
    {
      "cell_type": "markdown",
      "source": [
        "## Importação de bibliotecas e arquivos"
      ],
      "metadata": {
        "id": "m9fnpOYhhs_n"
      }
    },
    {
      "cell_type": "code",
      "execution_count": 1,
      "metadata": {
        "id": "wVpubNf7hVBI"
      },
      "outputs": [],
      "source": [
        "import pandas as pd\n",
        "import numpy as np\n",
        "import matplotlib as plt\n",
        "import matplotlib.pyplot as pltp\n",
        "import seaborn as sns\n",
        "import scipy.stats as stats\n",
        "from scipy.stats import chi2_contingency\n",
        "from statsmodels.stats.power import tt_ind_solve_power"
      ]
    },
    {
      "cell_type": "code",
      "source": [
        "df = pd.read_csv('experimento_teste_ab.csv')\n",
        "df.head()"
      ],
      "metadata": {
        "colab": {
          "base_uri": "https://localhost:8080/",
          "height": 206
        },
        "id": "FGJtcwvuekSH",
        "outputId": "a424d6a9-5c09-4134-ba71-173ed89f24ee"
      },
      "execution_count": 2,
      "outputs": [
        {
          "output_type": "execute_result",
          "data": {
            "text/plain": [
              "   Visitante_ID Versão_Página  Visualizações  Conversões\n",
              "0             1             A            167           1\n",
              "1             2             A            160           0\n",
              "2             3             A            170           0\n",
              "3             4             A            161           1\n",
              "4             5             A            104           0"
            ],
            "text/html": [
              "\n",
              "  <div id=\"df-3c9e6cc7-7287-4573-baf9-829e8fd8031a\" class=\"colab-df-container\">\n",
              "    <div>\n",
              "<style scoped>\n",
              "    .dataframe tbody tr th:only-of-type {\n",
              "        vertical-align: middle;\n",
              "    }\n",
              "\n",
              "    .dataframe tbody tr th {\n",
              "        vertical-align: top;\n",
              "    }\n",
              "\n",
              "    .dataframe thead th {\n",
              "        text-align: right;\n",
              "    }\n",
              "</style>\n",
              "<table border=\"1\" class=\"dataframe\">\n",
              "  <thead>\n",
              "    <tr style=\"text-align: right;\">\n",
              "      <th></th>\n",
              "      <th>Visitante_ID</th>\n",
              "      <th>Versão_Página</th>\n",
              "      <th>Visualizações</th>\n",
              "      <th>Conversões</th>\n",
              "    </tr>\n",
              "  </thead>\n",
              "  <tbody>\n",
              "    <tr>\n",
              "      <th>0</th>\n",
              "      <td>1</td>\n",
              "      <td>A</td>\n",
              "      <td>167</td>\n",
              "      <td>1</td>\n",
              "    </tr>\n",
              "    <tr>\n",
              "      <th>1</th>\n",
              "      <td>2</td>\n",
              "      <td>A</td>\n",
              "      <td>160</td>\n",
              "      <td>0</td>\n",
              "    </tr>\n",
              "    <tr>\n",
              "      <th>2</th>\n",
              "      <td>3</td>\n",
              "      <td>A</td>\n",
              "      <td>170</td>\n",
              "      <td>0</td>\n",
              "    </tr>\n",
              "    <tr>\n",
              "      <th>3</th>\n",
              "      <td>4</td>\n",
              "      <td>A</td>\n",
              "      <td>161</td>\n",
              "      <td>1</td>\n",
              "    </tr>\n",
              "    <tr>\n",
              "      <th>4</th>\n",
              "      <td>5</td>\n",
              "      <td>A</td>\n",
              "      <td>104</td>\n",
              "      <td>0</td>\n",
              "    </tr>\n",
              "  </tbody>\n",
              "</table>\n",
              "</div>\n",
              "    <div class=\"colab-df-buttons\">\n",
              "\n",
              "  <div class=\"colab-df-container\">\n",
              "    <button class=\"colab-df-convert\" onclick=\"convertToInteractive('df-3c9e6cc7-7287-4573-baf9-829e8fd8031a')\"\n",
              "            title=\"Convert this dataframe to an interactive table.\"\n",
              "            style=\"display:none;\">\n",
              "\n",
              "  <svg xmlns=\"http://www.w3.org/2000/svg\" height=\"24px\" viewBox=\"0 -960 960 960\">\n",
              "    <path d=\"M120-120v-720h720v720H120Zm60-500h600v-160H180v160Zm220 220h160v-160H400v160Zm0 220h160v-160H400v160ZM180-400h160v-160H180v160Zm440 0h160v-160H620v160ZM180-180h160v-160H180v160Zm440 0h160v-160H620v160Z\"/>\n",
              "  </svg>\n",
              "    </button>\n",
              "\n",
              "  <style>\n",
              "    .colab-df-container {\n",
              "      display:flex;\n",
              "      gap: 12px;\n",
              "    }\n",
              "\n",
              "    .colab-df-convert {\n",
              "      background-color: #E8F0FE;\n",
              "      border: none;\n",
              "      border-radius: 50%;\n",
              "      cursor: pointer;\n",
              "      display: none;\n",
              "      fill: #1967D2;\n",
              "      height: 32px;\n",
              "      padding: 0 0 0 0;\n",
              "      width: 32px;\n",
              "    }\n",
              "\n",
              "    .colab-df-convert:hover {\n",
              "      background-color: #E2EBFA;\n",
              "      box-shadow: 0px 1px 2px rgba(60, 64, 67, 0.3), 0px 1px 3px 1px rgba(60, 64, 67, 0.15);\n",
              "      fill: #174EA6;\n",
              "    }\n",
              "\n",
              "    .colab-df-buttons div {\n",
              "      margin-bottom: 4px;\n",
              "    }\n",
              "\n",
              "    [theme=dark] .colab-df-convert {\n",
              "      background-color: #3B4455;\n",
              "      fill: #D2E3FC;\n",
              "    }\n",
              "\n",
              "    [theme=dark] .colab-df-convert:hover {\n",
              "      background-color: #434B5C;\n",
              "      box-shadow: 0px 1px 3px 1px rgba(0, 0, 0, 0.15);\n",
              "      filter: drop-shadow(0px 1px 2px rgba(0, 0, 0, 0.3));\n",
              "      fill: #FFFFFF;\n",
              "    }\n",
              "  </style>\n",
              "\n",
              "    <script>\n",
              "      const buttonEl =\n",
              "        document.querySelector('#df-3c9e6cc7-7287-4573-baf9-829e8fd8031a button.colab-df-convert');\n",
              "      buttonEl.style.display =\n",
              "        google.colab.kernel.accessAllowed ? 'block' : 'none';\n",
              "\n",
              "      async function convertToInteractive(key) {\n",
              "        const element = document.querySelector('#df-3c9e6cc7-7287-4573-baf9-829e8fd8031a');\n",
              "        const dataTable =\n",
              "          await google.colab.kernel.invokeFunction('convertToInteractive',\n",
              "                                                    [key], {});\n",
              "        if (!dataTable) return;\n",
              "\n",
              "        const docLinkHtml = 'Like what you see? Visit the ' +\n",
              "          '<a target=\"_blank\" href=https://colab.research.google.com/notebooks/data_table.ipynb>data table notebook</a>'\n",
              "          + ' to learn more about interactive tables.';\n",
              "        element.innerHTML = '';\n",
              "        dataTable['output_type'] = 'display_data';\n",
              "        await google.colab.output.renderOutput(dataTable, element);\n",
              "        const docLink = document.createElement('div');\n",
              "        docLink.innerHTML = docLinkHtml;\n",
              "        element.appendChild(docLink);\n",
              "      }\n",
              "    </script>\n",
              "  </div>\n",
              "\n",
              "\n",
              "<div id=\"df-f9bea750-b88d-4de4-b164-50aa9c88b216\">\n",
              "  <button class=\"colab-df-quickchart\" onclick=\"quickchart('df-f9bea750-b88d-4de4-b164-50aa9c88b216')\"\n",
              "            title=\"Suggest charts\"\n",
              "            style=\"display:none;\">\n",
              "\n",
              "<svg xmlns=\"http://www.w3.org/2000/svg\" height=\"24px\"viewBox=\"0 0 24 24\"\n",
              "     width=\"24px\">\n",
              "    <g>\n",
              "        <path d=\"M19 3H5c-1.1 0-2 .9-2 2v14c0 1.1.9 2 2 2h14c1.1 0 2-.9 2-2V5c0-1.1-.9-2-2-2zM9 17H7v-7h2v7zm4 0h-2V7h2v10zm4 0h-2v-4h2v4z\"/>\n",
              "    </g>\n",
              "</svg>\n",
              "  </button>\n",
              "\n",
              "<style>\n",
              "  .colab-df-quickchart {\n",
              "      --bg-color: #E8F0FE;\n",
              "      --fill-color: #1967D2;\n",
              "      --hover-bg-color: #E2EBFA;\n",
              "      --hover-fill-color: #174EA6;\n",
              "      --disabled-fill-color: #AAA;\n",
              "      --disabled-bg-color: #DDD;\n",
              "  }\n",
              "\n",
              "  [theme=dark] .colab-df-quickchart {\n",
              "      --bg-color: #3B4455;\n",
              "      --fill-color: #D2E3FC;\n",
              "      --hover-bg-color: #434B5C;\n",
              "      --hover-fill-color: #FFFFFF;\n",
              "      --disabled-bg-color: #3B4455;\n",
              "      --disabled-fill-color: #666;\n",
              "  }\n",
              "\n",
              "  .colab-df-quickchart {\n",
              "    background-color: var(--bg-color);\n",
              "    border: none;\n",
              "    border-radius: 50%;\n",
              "    cursor: pointer;\n",
              "    display: none;\n",
              "    fill: var(--fill-color);\n",
              "    height: 32px;\n",
              "    padding: 0;\n",
              "    width: 32px;\n",
              "  }\n",
              "\n",
              "  .colab-df-quickchart:hover {\n",
              "    background-color: var(--hover-bg-color);\n",
              "    box-shadow: 0 1px 2px rgba(60, 64, 67, 0.3), 0 1px 3px 1px rgba(60, 64, 67, 0.15);\n",
              "    fill: var(--button-hover-fill-color);\n",
              "  }\n",
              "\n",
              "  .colab-df-quickchart-complete:disabled,\n",
              "  .colab-df-quickchart-complete:disabled:hover {\n",
              "    background-color: var(--disabled-bg-color);\n",
              "    fill: var(--disabled-fill-color);\n",
              "    box-shadow: none;\n",
              "  }\n",
              "\n",
              "  .colab-df-spinner {\n",
              "    border: 2px solid var(--fill-color);\n",
              "    border-color: transparent;\n",
              "    border-bottom-color: var(--fill-color);\n",
              "    animation:\n",
              "      spin 1s steps(1) infinite;\n",
              "  }\n",
              "\n",
              "  @keyframes spin {\n",
              "    0% {\n",
              "      border-color: transparent;\n",
              "      border-bottom-color: var(--fill-color);\n",
              "      border-left-color: var(--fill-color);\n",
              "    }\n",
              "    20% {\n",
              "      border-color: transparent;\n",
              "      border-left-color: var(--fill-color);\n",
              "      border-top-color: var(--fill-color);\n",
              "    }\n",
              "    30% {\n",
              "      border-color: transparent;\n",
              "      border-left-color: var(--fill-color);\n",
              "      border-top-color: var(--fill-color);\n",
              "      border-right-color: var(--fill-color);\n",
              "    }\n",
              "    40% {\n",
              "      border-color: transparent;\n",
              "      border-right-color: var(--fill-color);\n",
              "      border-top-color: var(--fill-color);\n",
              "    }\n",
              "    60% {\n",
              "      border-color: transparent;\n",
              "      border-right-color: var(--fill-color);\n",
              "    }\n",
              "    80% {\n",
              "      border-color: transparent;\n",
              "      border-right-color: var(--fill-color);\n",
              "      border-bottom-color: var(--fill-color);\n",
              "    }\n",
              "    90% {\n",
              "      border-color: transparent;\n",
              "      border-bottom-color: var(--fill-color);\n",
              "    }\n",
              "  }\n",
              "</style>\n",
              "\n",
              "  <script>\n",
              "    async function quickchart(key) {\n",
              "      const quickchartButtonEl =\n",
              "        document.querySelector('#' + key + ' button');\n",
              "      quickchartButtonEl.disabled = true;  // To prevent multiple clicks.\n",
              "      quickchartButtonEl.classList.add('colab-df-spinner');\n",
              "      try {\n",
              "        const charts = await google.colab.kernel.invokeFunction(\n",
              "            'suggestCharts', [key], {});\n",
              "      } catch (error) {\n",
              "        console.error('Error during call to suggestCharts:', error);\n",
              "      }\n",
              "      quickchartButtonEl.classList.remove('colab-df-spinner');\n",
              "      quickchartButtonEl.classList.add('colab-df-quickchart-complete');\n",
              "    }\n",
              "    (() => {\n",
              "      let quickchartButtonEl =\n",
              "        document.querySelector('#df-f9bea750-b88d-4de4-b164-50aa9c88b216 button');\n",
              "      quickchartButtonEl.style.display =\n",
              "        google.colab.kernel.accessAllowed ? 'block' : 'none';\n",
              "    })();\n",
              "  </script>\n",
              "</div>\n",
              "\n",
              "    </div>\n",
              "  </div>\n"
            ],
            "application/vnd.google.colaboratory.intrinsic+json": {
              "type": "dataframe",
              "variable_name": "df",
              "summary": "{\n  \"name\": \"df\",\n  \"rows\": 2000,\n  \"fields\": [\n    {\n      \"column\": \"Visitante_ID\",\n      \"properties\": {\n        \"dtype\": \"number\",\n        \"std\": 577,\n        \"min\": 1,\n        \"max\": 2000,\n        \"num_unique_values\": 2000,\n        \"samples\": [\n          1861,\n          354,\n          1334\n        ],\n        \"semantic_type\": \"\",\n        \"description\": \"\"\n      }\n    },\n    {\n      \"column\": \"Vers\\u00e3o_P\\u00e1gina\",\n      \"properties\": {\n        \"dtype\": \"category\",\n        \"num_unique_values\": 2,\n        \"samples\": [\n          \"B\",\n          \"A\"\n        ],\n        \"semantic_type\": \"\",\n        \"description\": \"\"\n      }\n    },\n    {\n      \"column\": \"Visualiza\\u00e7\\u00f5es\",\n      \"properties\": {\n        \"dtype\": \"number\",\n        \"std\": 28,\n        \"min\": 100,\n        \"max\": 199,\n        \"num_unique_values\": 100,\n        \"samples\": [\n          192,\n          107\n        ],\n        \"semantic_type\": \"\",\n        \"description\": \"\"\n      }\n    },\n    {\n      \"column\": \"Convers\\u00f5es\",\n      \"properties\": {\n        \"dtype\": \"number\",\n        \"std\": 0,\n        \"min\": 0,\n        \"max\": 1,\n        \"num_unique_values\": 2,\n        \"samples\": [\n          0,\n          1\n        ],\n        \"semantic_type\": \"\",\n        \"description\": \"\"\n      }\n    }\n  ]\n}"
            }
          },
          "metadata": {},
          "execution_count": 2
        }
      ]
    },
    {
      "cell_type": "markdown",
      "source": [
        "## 1. 1.Qual dos cenários tem a maior taxa de conversão?"
      ],
      "metadata": {
        "id": "4W-kBkROiUGx"
      }
    },
    {
      "cell_type": "code",
      "source": [
        "# Calculando taxa d conversão dos cenários\n",
        "taxa_conversao_A = df[df['Versão_Página'] == 'A']['Conversões']\n",
        "taxa_conversao_B = df[df['Versão_Página'] == 'B']['Conversões']\n",
        "\n",
        "print(f\"Taxa de conversão para o cenário A: {taxa_conversao_A.mean()}\")\n",
        "print(f\"Taxa de conversão para o cenário B: {taxa_conversao_B.mean()}\")\n",
        "\n",
        "# If e else para uma apresentação dos resultados\n",
        "if taxa_conversao_A.mean() > taxa_conversao_B.mean():\n",
        "  print(\"O cenário A tem a maior taxa de conversão.\")\n",
        "else:\n",
        "  print(\"O cenário B tem a maior taxa de conversão.\")"
      ],
      "metadata": {
        "colab": {
          "base_uri": "https://localhost:8080/"
        },
        "id": "D2g2IzuO385J",
        "outputId": "71c3a08c-f96a-4896-f766-1934ff753523"
      },
      "execution_count": null,
      "outputs": [
        {
          "output_type": "stream",
          "name": "stdout",
          "text": [
            "Taxa de conversão para o cenário A: 0.105\n",
            "Taxa de conversão para o cenário B: 0.125\n",
            "O cenário B tem a maior taxa de conversão.\n"
          ]
        }
      ]
    },
    {
      "cell_type": "markdown",
      "source": [
        "## 2. Calcule qual o tamanho da amostra necessária para o desenvolvimento de um teste A/B, seguindo os seguintes critérios:\n",
        "a. O cenário A, da base, como o inicial, que funciona hoje.\n",
        "\n",
        "b. Considere 95% de confiança de que o efeito na conversão não foi aleatório com um nível de significância de 5% (alpha = 0,05).\n",
        "\n",
        "c. Também considere 80% de certeza conseguir capturar o efeito da nova\n",
        "abordagem.\n",
        "\n",
        "d. O aumento para 10% de conversão."
      ],
      "metadata": {
        "id": "qoPz9B1Hig56"
      }
    },
    {
      "cell_type": "code",
      "source": [
        "# Taxa de conversão do cenário A\n",
        "conversion_rate_A = df[df['Versão_Página'] == 'A']['Conversões'].mean()\n",
        "\n",
        "#aumento de 10% na conversão\n",
        "effect_size = 0.10\n",
        "\n",
        "# Nível de significância (alpha)\n",
        "alpha = 0.05\n",
        "\n",
        "# Poder estatístico (1 - beta)\n",
        "power = 0.80\n",
        "\n",
        "# Calcular o tamanho da amostra usando a função tt_ind_solve_power da biblioteca statsmodels\n",
        "\n",
        "sample_size = tt_ind_solve_power(effect_size=effect_size,\n",
        "                                 alpha=alpha,\n",
        "                                 power=power,\n",
        "                                 ratio=1,\n",
        "                                 alternative='larger')\n",
        "\n",
        "print(f\"O tamanho da amostra necessária para cada grupo é de aproximadamente: {int(sample_size)}\")\n"
      ],
      "metadata": {
        "id": "WxWR1CPPjE13",
        "colab": {
          "base_uri": "https://localhost:8080/"
        },
        "outputId": "7b3f2249-f81e-4250-bbcc-26dc1831475e"
      },
      "execution_count": null,
      "outputs": [
        {
          "output_type": "stream",
          "name": "stdout",
          "text": [
            "O tamanho da amostra necessária para cada grupo é de aproximadamente: 1237\n"
          ]
        }
      ]
    },
    {
      "cell_type": "markdown",
      "source": [
        "##Verifique a base pacientes.csv, os dados são fictícios. A sintetiza uma base de dados de um hospital que trata de pacientes com problemas cardíacos. Considere a base como a população, portanto as estatísticas da população são conhecidas. Responda as perguntas abaixo:"
      ],
      "metadata": {
        "id": "ZG2W-zvRjSlG"
      }
    },
    {
      "cell_type": "code",
      "source": [
        "# Importando DataFrame\n",
        "df = pd.read_csv('pacientes.csv')\n",
        "df.head()"
      ],
      "metadata": {
        "id": "OYp-styRjq2M",
        "colab": {
          "base_uri": "https://localhost:8080/",
          "height": 206
        },
        "outputId": "d5ac2875-10f1-4712-cfe0-887f1d17d064"
      },
      "execution_count": null,
      "outputs": [
        {
          "output_type": "execute_result",
          "data": {
            "text/plain": [
              "   Unnamed: 0  Pressao_Arterial  Idade  Genero  Etnia  Estado_Saude  \\\n",
              "0           0        142.755809     31       1      1             1   \n",
              "1           1        161.878468     35       1      1             0   \n",
              "2           2        161.508259     39       0      3             1   \n",
              "3           3        144.979408     43       1      3             1   \n",
              "4           4        162.502954     55       0      2             1   \n",
              "\n",
              "  Nome_Genero      Nome_Etnia                  Nome_Estado_Saude  \n",
              "0    Feminino  Afro-americano  Com condições de saúde adicionais  \n",
              "1    Feminino  Afro-americano                           Saudável  \n",
              "2   Masculino        Asiático  Com condições de saúde adicionais  \n",
              "3    Feminino        Asiático  Com condições de saúde adicionais  \n",
              "4   Masculino       Hispânico  Com condições de saúde adicionais  "
            ],
            "text/html": [
              "\n",
              "  <div id=\"df-fb536f60-bb1d-4bd7-9b45-5dd3b1e79f70\" class=\"colab-df-container\">\n",
              "    <div>\n",
              "<style scoped>\n",
              "    .dataframe tbody tr th:only-of-type {\n",
              "        vertical-align: middle;\n",
              "    }\n",
              "\n",
              "    .dataframe tbody tr th {\n",
              "        vertical-align: top;\n",
              "    }\n",
              "\n",
              "    .dataframe thead th {\n",
              "        text-align: right;\n",
              "    }\n",
              "</style>\n",
              "<table border=\"1\" class=\"dataframe\">\n",
              "  <thead>\n",
              "    <tr style=\"text-align: right;\">\n",
              "      <th></th>\n",
              "      <th>Unnamed: 0</th>\n",
              "      <th>Pressao_Arterial</th>\n",
              "      <th>Idade</th>\n",
              "      <th>Genero</th>\n",
              "      <th>Etnia</th>\n",
              "      <th>Estado_Saude</th>\n",
              "      <th>Nome_Genero</th>\n",
              "      <th>Nome_Etnia</th>\n",
              "      <th>Nome_Estado_Saude</th>\n",
              "    </tr>\n",
              "  </thead>\n",
              "  <tbody>\n",
              "    <tr>\n",
              "      <th>0</th>\n",
              "      <td>0</td>\n",
              "      <td>142.755809</td>\n",
              "      <td>31</td>\n",
              "      <td>1</td>\n",
              "      <td>1</td>\n",
              "      <td>1</td>\n",
              "      <td>Feminino</td>\n",
              "      <td>Afro-americano</td>\n",
              "      <td>Com condições de saúde adicionais</td>\n",
              "    </tr>\n",
              "    <tr>\n",
              "      <th>1</th>\n",
              "      <td>1</td>\n",
              "      <td>161.878468</td>\n",
              "      <td>35</td>\n",
              "      <td>1</td>\n",
              "      <td>1</td>\n",
              "      <td>0</td>\n",
              "      <td>Feminino</td>\n",
              "      <td>Afro-americano</td>\n",
              "      <td>Saudável</td>\n",
              "    </tr>\n",
              "    <tr>\n",
              "      <th>2</th>\n",
              "      <td>2</td>\n",
              "      <td>161.508259</td>\n",
              "      <td>39</td>\n",
              "      <td>0</td>\n",
              "      <td>3</td>\n",
              "      <td>1</td>\n",
              "      <td>Masculino</td>\n",
              "      <td>Asiático</td>\n",
              "      <td>Com condições de saúde adicionais</td>\n",
              "    </tr>\n",
              "    <tr>\n",
              "      <th>3</th>\n",
              "      <td>3</td>\n",
              "      <td>144.979408</td>\n",
              "      <td>43</td>\n",
              "      <td>1</td>\n",
              "      <td>3</td>\n",
              "      <td>1</td>\n",
              "      <td>Feminino</td>\n",
              "      <td>Asiático</td>\n",
              "      <td>Com condições de saúde adicionais</td>\n",
              "    </tr>\n",
              "    <tr>\n",
              "      <th>4</th>\n",
              "      <td>4</td>\n",
              "      <td>162.502954</td>\n",
              "      <td>55</td>\n",
              "      <td>0</td>\n",
              "      <td>2</td>\n",
              "      <td>1</td>\n",
              "      <td>Masculino</td>\n",
              "      <td>Hispânico</td>\n",
              "      <td>Com condições de saúde adicionais</td>\n",
              "    </tr>\n",
              "  </tbody>\n",
              "</table>\n",
              "</div>\n",
              "    <div class=\"colab-df-buttons\">\n",
              "\n",
              "  <div class=\"colab-df-container\">\n",
              "    <button class=\"colab-df-convert\" onclick=\"convertToInteractive('df-fb536f60-bb1d-4bd7-9b45-5dd3b1e79f70')\"\n",
              "            title=\"Convert this dataframe to an interactive table.\"\n",
              "            style=\"display:none;\">\n",
              "\n",
              "  <svg xmlns=\"http://www.w3.org/2000/svg\" height=\"24px\" viewBox=\"0 -960 960 960\">\n",
              "    <path d=\"M120-120v-720h720v720H120Zm60-500h600v-160H180v160Zm220 220h160v-160H400v160Zm0 220h160v-160H400v160ZM180-400h160v-160H180v160Zm440 0h160v-160H620v160ZM180-180h160v-160H180v160Zm440 0h160v-160H620v160Z\"/>\n",
              "  </svg>\n",
              "    </button>\n",
              "\n",
              "  <style>\n",
              "    .colab-df-container {\n",
              "      display:flex;\n",
              "      gap: 12px;\n",
              "    }\n",
              "\n",
              "    .colab-df-convert {\n",
              "      background-color: #E8F0FE;\n",
              "      border: none;\n",
              "      border-radius: 50%;\n",
              "      cursor: pointer;\n",
              "      display: none;\n",
              "      fill: #1967D2;\n",
              "      height: 32px;\n",
              "      padding: 0 0 0 0;\n",
              "      width: 32px;\n",
              "    }\n",
              "\n",
              "    .colab-df-convert:hover {\n",
              "      background-color: #E2EBFA;\n",
              "      box-shadow: 0px 1px 2px rgba(60, 64, 67, 0.3), 0px 1px 3px 1px rgba(60, 64, 67, 0.15);\n",
              "      fill: #174EA6;\n",
              "    }\n",
              "\n",
              "    .colab-df-buttons div {\n",
              "      margin-bottom: 4px;\n",
              "    }\n",
              "\n",
              "    [theme=dark] .colab-df-convert {\n",
              "      background-color: #3B4455;\n",
              "      fill: #D2E3FC;\n",
              "    }\n",
              "\n",
              "    [theme=dark] .colab-df-convert:hover {\n",
              "      background-color: #434B5C;\n",
              "      box-shadow: 0px 1px 3px 1px rgba(0, 0, 0, 0.15);\n",
              "      filter: drop-shadow(0px 1px 2px rgba(0, 0, 0, 0.3));\n",
              "      fill: #FFFFFF;\n",
              "    }\n",
              "  </style>\n",
              "\n",
              "    <script>\n",
              "      const buttonEl =\n",
              "        document.querySelector('#df-fb536f60-bb1d-4bd7-9b45-5dd3b1e79f70 button.colab-df-convert');\n",
              "      buttonEl.style.display =\n",
              "        google.colab.kernel.accessAllowed ? 'block' : 'none';\n",
              "\n",
              "      async function convertToInteractive(key) {\n",
              "        const element = document.querySelector('#df-fb536f60-bb1d-4bd7-9b45-5dd3b1e79f70');\n",
              "        const dataTable =\n",
              "          await google.colab.kernel.invokeFunction('convertToInteractive',\n",
              "                                                    [key], {});\n",
              "        if (!dataTable) return;\n",
              "\n",
              "        const docLinkHtml = 'Like what you see? Visit the ' +\n",
              "          '<a target=\"_blank\" href=https://colab.research.google.com/notebooks/data_table.ipynb>data table notebook</a>'\n",
              "          + ' to learn more about interactive tables.';\n",
              "        element.innerHTML = '';\n",
              "        dataTable['output_type'] = 'display_data';\n",
              "        await google.colab.output.renderOutput(dataTable, element);\n",
              "        const docLink = document.createElement('div');\n",
              "        docLink.innerHTML = docLinkHtml;\n",
              "        element.appendChild(docLink);\n",
              "      }\n",
              "    </script>\n",
              "  </div>\n",
              "\n",
              "\n",
              "<div id=\"df-6b04777d-0bc6-4424-9e64-42c5725182de\">\n",
              "  <button class=\"colab-df-quickchart\" onclick=\"quickchart('df-6b04777d-0bc6-4424-9e64-42c5725182de')\"\n",
              "            title=\"Suggest charts\"\n",
              "            style=\"display:none;\">\n",
              "\n",
              "<svg xmlns=\"http://www.w3.org/2000/svg\" height=\"24px\"viewBox=\"0 0 24 24\"\n",
              "     width=\"24px\">\n",
              "    <g>\n",
              "        <path d=\"M19 3H5c-1.1 0-2 .9-2 2v14c0 1.1.9 2 2 2h14c1.1 0 2-.9 2-2V5c0-1.1-.9-2-2-2zM9 17H7v-7h2v7zm4 0h-2V7h2v10zm4 0h-2v-4h2v4z\"/>\n",
              "    </g>\n",
              "</svg>\n",
              "  </button>\n",
              "\n",
              "<style>\n",
              "  .colab-df-quickchart {\n",
              "      --bg-color: #E8F0FE;\n",
              "      --fill-color: #1967D2;\n",
              "      --hover-bg-color: #E2EBFA;\n",
              "      --hover-fill-color: #174EA6;\n",
              "      --disabled-fill-color: #AAA;\n",
              "      --disabled-bg-color: #DDD;\n",
              "  }\n",
              "\n",
              "  [theme=dark] .colab-df-quickchart {\n",
              "      --bg-color: #3B4455;\n",
              "      --fill-color: #D2E3FC;\n",
              "      --hover-bg-color: #434B5C;\n",
              "      --hover-fill-color: #FFFFFF;\n",
              "      --disabled-bg-color: #3B4455;\n",
              "      --disabled-fill-color: #666;\n",
              "  }\n",
              "\n",
              "  .colab-df-quickchart {\n",
              "    background-color: var(--bg-color);\n",
              "    border: none;\n",
              "    border-radius: 50%;\n",
              "    cursor: pointer;\n",
              "    display: none;\n",
              "    fill: var(--fill-color);\n",
              "    height: 32px;\n",
              "    padding: 0;\n",
              "    width: 32px;\n",
              "  }\n",
              "\n",
              "  .colab-df-quickchart:hover {\n",
              "    background-color: var(--hover-bg-color);\n",
              "    box-shadow: 0 1px 2px rgba(60, 64, 67, 0.3), 0 1px 3px 1px rgba(60, 64, 67, 0.15);\n",
              "    fill: var(--button-hover-fill-color);\n",
              "  }\n",
              "\n",
              "  .colab-df-quickchart-complete:disabled,\n",
              "  .colab-df-quickchart-complete:disabled:hover {\n",
              "    background-color: var(--disabled-bg-color);\n",
              "    fill: var(--disabled-fill-color);\n",
              "    box-shadow: none;\n",
              "  }\n",
              "\n",
              "  .colab-df-spinner {\n",
              "    border: 2px solid var(--fill-color);\n",
              "    border-color: transparent;\n",
              "    border-bottom-color: var(--fill-color);\n",
              "    animation:\n",
              "      spin 1s steps(1) infinite;\n",
              "  }\n",
              "\n",
              "  @keyframes spin {\n",
              "    0% {\n",
              "      border-color: transparent;\n",
              "      border-bottom-color: var(--fill-color);\n",
              "      border-left-color: var(--fill-color);\n",
              "    }\n",
              "    20% {\n",
              "      border-color: transparent;\n",
              "      border-left-color: var(--fill-color);\n",
              "      border-top-color: var(--fill-color);\n",
              "    }\n",
              "    30% {\n",
              "      border-color: transparent;\n",
              "      border-left-color: var(--fill-color);\n",
              "      border-top-color: var(--fill-color);\n",
              "      border-right-color: var(--fill-color);\n",
              "    }\n",
              "    40% {\n",
              "      border-color: transparent;\n",
              "      border-right-color: var(--fill-color);\n",
              "      border-top-color: var(--fill-color);\n",
              "    }\n",
              "    60% {\n",
              "      border-color: transparent;\n",
              "      border-right-color: var(--fill-color);\n",
              "    }\n",
              "    80% {\n",
              "      border-color: transparent;\n",
              "      border-right-color: var(--fill-color);\n",
              "      border-bottom-color: var(--fill-color);\n",
              "    }\n",
              "    90% {\n",
              "      border-color: transparent;\n",
              "      border-bottom-color: var(--fill-color);\n",
              "    }\n",
              "  }\n",
              "</style>\n",
              "\n",
              "  <script>\n",
              "    async function quickchart(key) {\n",
              "      const quickchartButtonEl =\n",
              "        document.querySelector('#' + key + ' button');\n",
              "      quickchartButtonEl.disabled = true;  // To prevent multiple clicks.\n",
              "      quickchartButtonEl.classList.add('colab-df-spinner');\n",
              "      try {\n",
              "        const charts = await google.colab.kernel.invokeFunction(\n",
              "            'suggestCharts', [key], {});\n",
              "      } catch (error) {\n",
              "        console.error('Error during call to suggestCharts:', error);\n",
              "      }\n",
              "      quickchartButtonEl.classList.remove('colab-df-spinner');\n",
              "      quickchartButtonEl.classList.add('colab-df-quickchart-complete');\n",
              "    }\n",
              "    (() => {\n",
              "      let quickchartButtonEl =\n",
              "        document.querySelector('#df-6b04777d-0bc6-4424-9e64-42c5725182de button');\n",
              "      quickchartButtonEl.style.display =\n",
              "        google.colab.kernel.accessAllowed ? 'block' : 'none';\n",
              "    })();\n",
              "  </script>\n",
              "</div>\n",
              "\n",
              "    </div>\n",
              "  </div>\n"
            ],
            "application/vnd.google.colaboratory.intrinsic+json": {
              "type": "dataframe",
              "variable_name": "df",
              "summary": "{\n  \"name\": \"df\",\n  \"rows\": 1000,\n  \"fields\": [\n    {\n      \"column\": \"Unnamed: 0\",\n      \"properties\": {\n        \"dtype\": \"number\",\n        \"std\": 288,\n        \"min\": 0,\n        \"max\": 999,\n        \"num_unique_values\": 1000,\n        \"samples\": [\n          521,\n          737,\n          740\n        ],\n        \"semantic_type\": \"\",\n        \"description\": \"\"\n      }\n    },\n    {\n      \"column\": \"Pressao_Arterial\",\n      \"properties\": {\n        \"dtype\": \"number\",\n        \"std\": 9.943612581359622,\n        \"min\": 112.92982068924913,\n        \"max\": 181.80313088710068,\n        \"num_unique_values\": 1000,\n        \"samples\": [\n          152.04119412297098,\n          147.54391492523183,\n          168.8184130751253\n        ],\n        \"semantic_type\": \"\",\n        \"description\": \"\"\n      }\n    },\n    {\n      \"column\": \"Idade\",\n      \"properties\": {\n        \"dtype\": \"number\",\n        \"std\": 11,\n        \"min\": 30,\n        \"max\": 70,\n        \"num_unique_values\": 41,\n        \"samples\": [\n          30,\n          65,\n          57\n        ],\n        \"semantic_type\": \"\",\n        \"description\": \"\"\n      }\n    },\n    {\n      \"column\": \"Genero\",\n      \"properties\": {\n        \"dtype\": \"number\",\n        \"std\": 0,\n        \"min\": 0,\n        \"max\": 1,\n        \"num_unique_values\": 2,\n        \"samples\": [\n          0,\n          1\n        ],\n        \"semantic_type\": \"\",\n        \"description\": \"\"\n      }\n    },\n    {\n      \"column\": \"Etnia\",\n      \"properties\": {\n        \"dtype\": \"number\",\n        \"std\": 1,\n        \"min\": 0,\n        \"max\": 3,\n        \"num_unique_values\": 4,\n        \"samples\": [\n          3,\n          0\n        ],\n        \"semantic_type\": \"\",\n        \"description\": \"\"\n      }\n    },\n    {\n      \"column\": \"Estado_Saude\",\n      \"properties\": {\n        \"dtype\": \"number\",\n        \"std\": 0,\n        \"min\": 0,\n        \"max\": 1,\n        \"num_unique_values\": 2,\n        \"samples\": [\n          0,\n          1\n        ],\n        \"semantic_type\": \"\",\n        \"description\": \"\"\n      }\n    },\n    {\n      \"column\": \"Nome_Genero\",\n      \"properties\": {\n        \"dtype\": \"category\",\n        \"num_unique_values\": 2,\n        \"samples\": [\n          \"Masculino\",\n          \"Feminino\"\n        ],\n        \"semantic_type\": \"\",\n        \"description\": \"\"\n      }\n    },\n    {\n      \"column\": \"Nome_Etnia\",\n      \"properties\": {\n        \"dtype\": \"category\",\n        \"num_unique_values\": 4,\n        \"samples\": [\n          \"Asi\\u00e1tico\",\n          \"Caucasiano\"\n        ],\n        \"semantic_type\": \"\",\n        \"description\": \"\"\n      }\n    },\n    {\n      \"column\": \"Nome_Estado_Saude\",\n      \"properties\": {\n        \"dtype\": \"category\",\n        \"num_unique_values\": 2,\n        \"samples\": [\n          \"Saud\\u00e1vel\",\n          \"Com condi\\u00e7\\u00f5es de sa\\u00fade adicionais\"\n        ],\n        \"semantic_type\": \"\",\n        \"description\": \"\"\n      }\n    }\n  ]\n}"
            }
          },
          "metadata": {},
          "execution_count": 24
        }
      ]
    },
    {
      "cell_type": "markdown",
      "source": [
        "\n",
        "##3. Considerando uma amostra de 45 números que representam o index do dataframe, índices= ([909, 751, 402, 400, 726, 39, 184, 269, 255, 769, 209, 715, 677, 381, 793, 697,  89, 280, 232, 756, 358,  36, 439, 768, 967, 699, 473, 222,  89, 639, 883, 558, 757,  84, 907, 895, 217, 224, 311, 348, 146, 505, 273, 957, 362]). Considerando essa amostra é possível dizer que a idade média das pessoas com problemas cardíacos é maior que 50 anos? Nível de significância igual a 5%."
      ],
      "metadata": {
        "id": "Z7zDfIv7jfUD"
      }
    },
    {
      "cell_type": "code",
      "source": [
        "# Considerando uma amostra de 45 números que representam o index do dataframe\n",
        "\n",
        "indices = [909, 751, 402, 400, 726, 39, 184, 269, 255, 769, 209, 715, 677, 381, 793, 697, 89, 280, 232, 756, 358, 36, 439, 768, 967, 699, 473, 222,\n",
        "           89, 639, 883, 558, 757, 84, 907, 895, 217, 224, 311, 348, 146, 505, 273, 957, 362]\n",
        "\n",
        "amostra = df.loc[indices, 'Idade']\n",
        "\n",
        "# Calculando média e desvio padrão da amostra e da população\n",
        "media_amostra = amostra.mean()\n",
        "desvio_padrao_amostra = amostra.std()\n",
        "n = len(amostra)\n",
        "\n",
        "media_populacao = df['Idade'].mean()\n",
        "desvio_padrao_populacao = df['Idade'].std()\n",
        "\n",
        "# Hipótese nula: A idade média da população é igual a 50 anos.\n",
        "# Hipótese alternativa: A idade média da população é maior que 50 anos.\n",
        "\n",
        "# Teste t unilateral\n",
        "t_statistic = (media_amostra - 50) / (desvio_padrao_amostra / np.sqrt(n))\n",
        "p_value = stats.t.sf(t_statistic, df=n-1)\n",
        "\n",
        "alpha = 0.05\n",
        "\n",
        "print(f\"Média da amostra: {media_amostra:.2f}\")\n",
        "print(f\"Desvio padrão da amostra: {desvio_padrao_amostra:.2f}\")\n",
        "print(f\"Estatística t: {t_statistic:.2f}\")\n",
        "print(f\"Valor p: {p_value:.3f}\")\n",
        "\n",
        "if p_value < alpha:\n",
        "  print(\"Rejeitamos a hipótese nula. É possível dizer que a idade média das pessoas com problemas cardíacos é maior que 50 anos.\")\n",
        "else:\n",
        "  print(\"Não rejeitamos a hipótese nula. Não há evidências suficientes para dizer que a idade média das pessoas com problemas cardíacos é maior que 50 anos.\")\n"
      ],
      "metadata": {
        "colab": {
          "base_uri": "https://localhost:8080/"
        },
        "id": "NP6XhgvP1zAD",
        "outputId": "5acd8568-a5fa-4614-960f-b0295d9e7d55"
      },
      "execution_count": null,
      "outputs": [
        {
          "output_type": "stream",
          "name": "stdout",
          "text": [
            "Média da amostra: 50.09\n",
            "Desvio padrão da amostra: 11.41\n",
            "Estatística t: 0.05\n",
            "Valor p: 0.479\n",
            "Não rejeitamos a hipótese nula. Não há evidências suficientes para dizer que a idade média das pessoas com problemas cardíacos é maior que 50 anos.\n"
          ]
        }
      ]
    },
    {
      "cell_type": "markdown",
      "source": [
        "##4. Queremos entender que tipo de amostra estamos lidando se dividirmos os conjuntos em 2, sendo um com pessoas que têm condições de saúde adicionais e o outro com pessoas saudáveis. Seria dependente ou independente?"
      ],
      "metadata": {
        "id": "6MOiwt0FjsQx"
      }
    },
    {
      "cell_type": "code",
      "source": [
        "# Criar dois DataFrames: um com pessoas com condições de saúde adicionais e outro com pessoas saudáveis\n",
        "df_com_condicoes = df[df['Nome_Estado_Saude'] == 'Com condições de saúde adicionais']\n",
        "df_saudavel = df[df['Nome_Estado_Saude'] == 'Saudável']\n",
        "\n",
        "cc_shape = df_com_condicoes.shape[0]\n",
        "s_shape = df_saudavel.shape[0]\n",
        "\n",
        "print(f\"Número de pessoas com condições de saúde adicionais: {cc_shape}\")\n",
        "print(f\"Número de pessoas saudáveis: {s_shape}\")\n",
        "\n",
        "# Criando tabela de contingência\n",
        "contingency_table = [[cc_shape, s_shape]]\n",
        "chi2, p, dof, expected = chi2_contingency(contingency_table)\n",
        "\n",
        "# Verificar se os grupos são dependentes ou independentes com base no valor p\n",
        "alpha = 0.05\n",
        "if p < alpha:\n",
        "  print(\"Os grupos são provavelmente dependentes.\")\n",
        "else:\n",
        "  print(\"Os grupos são provavelmente independentes.\")\n"
      ],
      "metadata": {
        "colab": {
          "base_uri": "https://localhost:8080/"
        },
        "id": "jNvEr58JB8N_",
        "outputId": "f92141ad-cb12-49e6-8f09-505112fb44e8"
      },
      "execution_count": null,
      "outputs": [
        {
          "output_type": "stream",
          "name": "stdout",
          "text": [
            "Número de pessoas com condições de saúde adicionais: 510\n",
            "Número de pessoas saudáveis: 490\n",
            "Os grupos são provavelmente independentes.\n"
          ]
        }
      ]
    },
    {
      "cell_type": "markdown",
      "source": [
        "##5. Agora considere o um conjunto de pessoas aleatória que representam o index do dataframe,  índices = ([690, 894,  67, 201, 364,  19,  60, 319, 588, 643, 855, 623, 530, 174, 105, 693,   6, 462, 973, 607, 811, 346, 354, 966, 943, 372]), podemos dizer que a pressão arterial média para pacientes com condições de saúde adicionais é igual à pressão arterial média para pacientes sem condições adicionais de saúde? Considere o nível de significância a 6%."
      ],
      "metadata": {
        "id": "TEVhGZyHkAmR"
      }
    },
    {
      "cell_type": "code",
      "source": [
        "# prompt: considere o um conjunto de pessoas aleatória que representam o index do dataframe\n",
        "\n",
        "indices = [690, 894, 67, 201, 364, 19, 60, 319, 588, 643, 855, 623, 530, 174, 105, 693, 6,\n",
        "           462, 973, 607, 811, 346, 354, 966, 943, 372]\n",
        "\n",
        "amostra = df.loc[indices]\n",
        "\n",
        "# Dividir a amostra em dois grupos: com e sem condições de saúde adicionais\n",
        "grupo_com_condicoes = amostra[amostra['Nome_Estado_Saude'] == 'Com condições de saúde adicionais']['Pressao_Arterial']\n",
        "grupo_sem_condicoes = amostra[amostra['Nome_Estado_Saude'] == 'Saudável']['Pressao_Arterial']\n",
        "\n",
        "# Calcular a média e desvio padrão de cada grupo\n",
        "media_com_condicoes = grupo_com_condicoes.mean()\n",
        "desvio_padrao_com_condicoes = grupo_com_condicoes.std()\n",
        "n_com_condicoes = len(grupo_com_condicoes)\n",
        "\n",
        "media_sem_condicoes = grupo_sem_condicoes.mean()\n",
        "desvio_padrao_sem_condicoes = grupo_sem_condicoes.std()\n",
        "n_sem_condicoes = len(grupo_sem_condicoes)\n",
        "\n",
        "# Teste t para amostras independentes\n",
        "t_statistic, p_value = stats.ttest_ind(grupo_com_condicoes, grupo_sem_condicoes)\n",
        "\n",
        "alpha = 0.06\n",
        "\n",
        "print(f\"Média da pressão arterial com condições adicionais: {media_com_condicoes:.2f}\")\n",
        "print(f\"Desvio padrão da pressão arterial com condições adicionais: {desvio_padrao_com_condicoes:.2f}\")\n",
        "print(f\"Média da pressão arterial sem condições adicionais: {media_sem_condicoes:.2f}\")\n",
        "print(f\"Desvio padrão da pressão arterial sem condições adicionais: {desvio_padrao_sem_condicoes:.2f}\")\n",
        "print(f\"Estatística t: {t_statistic:.2f}\")\n",
        "print(f\"Valor p: {p_value:.3f}\")\n",
        "\n",
        "print('Hipótese Nula: A pressão arterial média para pacientes com condições de saúde adicionais não é diferente da pressão arterial média para pacientes sem condições adicionais de saúde')\n",
        "\n",
        "if p_value < alpha:\n",
        "  print(\"Rejeitamos a hipótese nula. A pressão arterial média para pacientes com condições de saúde adicionais é diferente da pressão arterial média para pacientes sem condições adicionais de saúde.\")\n",
        "else:\n",
        "  print(\"Não rejeitamos a hipótese nula. Não há evidências suficientes para dizer que a pressão arterial média para pacientes com condições de saúde adicionais é diferente da pressão arterial média para pacientes sem condições adicionais de saúde.\")\n"
      ],
      "metadata": {
        "id": "-cJyp59omgF8",
        "colab": {
          "base_uri": "https://localhost:8080/"
        },
        "outputId": "336a5ac2-3db3-42d8-f0ce-2ff1b8e39951"
      },
      "execution_count": null,
      "outputs": [
        {
          "output_type": "stream",
          "name": "stdout",
          "text": [
            "Média da pressão arterial com condições adicionais: 153.20\n",
            "Desvio padrão da pressão arterial com condições adicionais: 8.31\n",
            "Média da pressão arterial sem condições adicionais: 152.94\n",
            "Desvio padrão da pressão arterial sem condições adicionais: 7.24\n",
            "Estatística t: 0.08\n",
            "Valor p: 0.936\n",
            "Hipótese Nula: A pressão arterial média para pacientes com condições de saúde adicionais não é diferente da pressão arterial média para pacientes sem condições adicionais de saúde\n",
            "Não rejeitamos a hipótese nula. Não há evidências suficientes para dizer que a pressão arterial média para pacientes com condições de saúde adicionais é diferente da pressão arterial média para pacientes sem condições adicionais de saúde.\n"
          ]
        }
      ]
    },
    {
      "cell_type": "markdown",
      "source": [
        "##6. Existe uma diferença significativa na pressão arterial média entre diferentes grupos étnicos nesta população? (Teste ANOVA, alpha é 5%)\n",
        "a.Hipótese Nula (H0): A pressão arterial média é a mesma em todos os grupos étnicos."
      ],
      "metadata": {
        "id": "8sLCOBIemPZB"
      }
    },
    {
      "cell_type": "code",
      "source": [
        "# Realizar o teste ANOVA\n",
        "groups = df.groupby('Etnia')['Pressao_Arterial']\n",
        "fvalue, pvalue = stats.f_oneway(*[group for name, group in groups])\n",
        "\n",
        "# Definir o nível de significância\n",
        "alpha = 0.05\n",
        "\n",
        "# Imprimir os resultados\n",
        "print(f\"Valor F: {fvalue:.2f}\")\n",
        "print(f\"Valor p: {pvalue:.3f}\")\n",
        "\n",
        "# Verificar se a hipótese nula é rejeitada\n",
        "if pvalue < alpha:\n",
        "    print(\"Rejeitamos a hipótese nula. Existe uma diferença significativa na pressão arterial média entre diferentes grupos étnicos.\")\n",
        "else:\n",
        "    print(\"Não rejeitamos a hipótese nula. Não há evidências suficientes para dizer que existe uma diferença significativa na pressão arterial média entre diferentes grupos étnicos.\")\n"
      ],
      "metadata": {
        "id": "ZxzMHcdEmOdM",
        "colab": {
          "base_uri": "https://localhost:8080/"
        },
        "outputId": "c58c508b-c725-4e09-b4c1-6c6cb4828060"
      },
      "execution_count": null,
      "outputs": [
        {
          "output_type": "stream",
          "name": "stdout",
          "text": [
            "Valor F: 0.23\n",
            "Valor p: 0.874\n",
            "Não rejeitamos a hipótese nula. Não há evidências suficientes para dizer que existe uma diferença significativa na pressão arterial média entre diferentes grupos étnicos.\n"
          ]
        }
      ]
    },
    {
      "cell_type": "markdown",
      "source": [
        "b.Existe uma associação entre a idade dos pacientes e sua pressão arterial?\n",
        "\n",
        "i.Hipótese Nula (H0): A idade dos pacientes é independente da pressão arterial.\n",
        "\n",
        "ii.Hipótese Alternativa (H1): Há uma diferença significativa na pressão arterial média entre pelo menos dois grupos étnicos nesta população."
      ],
      "metadata": {
        "id": "JQx7P9IXL_2K"
      }
    },
    {
      "cell_type": "code",
      "source": [
        "# Calcular a correlação entre idade e pressão arterial\n",
        "correlation, p_value = stats.pearsonr(df['Idade'], df['Pressao_Arterial'])\n",
        "\n",
        "# Definir o nível de significância\n",
        "alpha = 0.05\n",
        "\n",
        "# Imprimir os resultados\n",
        "print(f\"Correlação entre idade e pressão arterial: {correlation:.2f}\")\n",
        "print(f\"Valor p: {p_value:.3f}\")\n",
        "\n",
        "# Verificar se a hipótese nula é rejeitada\n",
        "if p_value < alpha:\n",
        "    print(\"Rejeitamos a hipótese nula. Existe uma associação significativa entre a idade dos pacientes e sua pressão arterial.\")\n",
        "else:\n",
        "    print(\"Não rejeitamos a hipótese nula. Não há evidências suficientes para dizer que existe uma associação significativa entre a idade dos pacientes e sua pressão arterial.\")\n"
      ],
      "metadata": {
        "colab": {
          "base_uri": "https://localhost:8080/"
        },
        "id": "ChiW6fLhMF_W",
        "outputId": "dfa3aec5-6f7e-4d8c-ed0d-f524256b33d2"
      },
      "execution_count": null,
      "outputs": [
        {
          "output_type": "stream",
          "name": "stdout",
          "text": [
            "Correlação entre idade e pressão arterial: -0.02\n",
            "Valor p: 0.499\n",
            "Não rejeitamos a hipótese nula. Não há evidências suficientes para dizer que existe uma associação significativa entre a idade dos pacientes e sua pressão arterial.\n"
          ]
        }
      ]
    },
    {
      "cell_type": "markdown",
      "source": [
        "##7. Lúcia é uma pesquisadora e tem o objetivo de entender a relação de gênero neste grupo de pacientes. Acredita-se que há uma relação entre o sexo e condições de saúde adicionais. (Teste qui-quadrado)"
      ],
      "metadata": {
        "id": "s5iL-ATWm5ZG"
      }
    },
    {
      "cell_type": "code",
      "source": [
        "# Criar uma tabela de contingência entre sexo e condições de saúde adicionais\n",
        "contingency_table = pd.crosstab(df['Genero'], df['Nome_Estado_Saude'])\n",
        "\n",
        "# Executar o teste qui-quadrado\n",
        "chi2, p, dof, expected = chi2_contingency(contingency_table)\n",
        "\n",
        "# Definir o nível de significância\n",
        "alpha = 0.05\n",
        "\n",
        "# Imprimir os resultados\n",
        "print(f\"Qui-quadrado: {chi2:.2f}\")\n",
        "print(f\"Valor p: {p:.3f}\")\n",
        "\n",
        "# Verificar se a hipótese nula é rejeitada\n",
        "if p < alpha:\n",
        "    print(\"Rejeitamos a hipótese nula. Existe uma associação significativa entre sexo e condições de saúde adicionais.\")\n",
        "else:\n",
        "    print(\"Não rejeitamos a hipótese nula. Não há evidências suficientes para dizer que existe uma associação significativa entre sexo e condições de saúde adicionais.\")\n"
      ],
      "metadata": {
        "colab": {
          "base_uri": "https://localhost:8080/"
        },
        "id": "Y8k8RmiECYMy",
        "outputId": "6588322f-2cda-45fd-8c94-8acfa5a5f353"
      },
      "execution_count": null,
      "outputs": [
        {
          "output_type": "stream",
          "name": "stdout",
          "text": [
            "Qui-quadrado: 0.00\n",
            "Valor p: 1.000\n",
            "Não rejeitamos a hipótese nula. Não há evidências suficientes para dizer que existe uma associação significativa entre sexo e condições de saúde adicionais.\n"
          ]
        }
      ]
    },
    {
      "cell_type": "markdown",
      "source": [
        "##8. Qual é o intervalo de confiança para a média da pressão arterial entre os pacientes com condições de saúde adicionais? (nível de confiança 95%)"
      ],
      "metadata": {
        "id": "JUdJODIfnCJ4"
      }
    },
    {
      "cell_type": "code",
      "source": [
        "# Filtrar os pacientes com condições de saúde adicionais\n",
        "pacientes_com_condicoes = df[df['Nome_Estado_Saude'] == 'Com condições de saúde adicionais']\n",
        "\n",
        "# Calcular a média e o desvio padrão da pressão arterial para este grupo\n",
        "media_pressao_arterial = pacientes_com_condicoes['Pressao_Arterial'].mean()\n",
        "desvio_padrao_pressao_arterial = pacientes_com_condicoes['Pressao_Arterial'].std()\n",
        "n = len(pacientes_com_condicoes)\n",
        "\n",
        "# Calcular o erro padrão\n",
        "erro_padrao = desvio_padrao_pressao_arterial / np.sqrt(n)\n",
        "\n",
        "# Calcular o intervalo de confiança (nível de confiança 95%)\n",
        "intervalo_confianca = stats.t.interval(0.95, df=n-1, loc=media_pressao_arterial, scale=erro_padrao)\n",
        "\n",
        "# Imprimir o intervalo de confiança\n",
        "print(f\"Intervalo de confiança para a média da pressão arterial (nível de confiança 95%): {intervalo_confianca}\")\n"
      ],
      "metadata": {
        "id": "l_C3dddEnJII",
        "colab": {
          "base_uri": "https://localhost:8080/"
        },
        "outputId": "6ddff121-d1ea-45d2-c05d-a98a42876c5e"
      },
      "execution_count": null,
      "outputs": [
        {
          "output_type": "stream",
          "name": "stdout",
          "text": [
            "Intervalo de confiança para a média da pressão arterial (nível de confiança 95%): (149.21972443653837, 151.01717945377672)\n"
          ]
        }
      ]
    },
    {
      "cell_type": "markdown",
      "source": [
        "##9. A distribuição da pressão arterial na população segue uma distribuição normal?\n",
        "a.Hipótese Nula (H0): A distribuição da pressão arterial na população segue uma distribuição normal.\n",
        "\n",
        "b.Hipótese Alternativa (H1): A distribuição da pressão arterial na população não segue uma distribuição normal."
      ],
      "metadata": {
        "id": "qZWFc8H5nH9-"
      }
    },
    {
      "cell_type": "code",
      "source": [
        "# Teste de Shapiro-Wilk para normalidade\n",
        "statistic, p_value = stats.shapiro(df['Pressao_Arterial'])\n",
        "\n",
        "# Definir o nível de significância\n",
        "alpha = 0.05\n",
        "\n",
        "# Imprimir os resultados\n",
        "print(f\"Estatística de Shapiro-Wilk: {statistic:.2f}\")\n",
        "print(f\"Valor p: {p_value:.3f}\")\n",
        "\n",
        "# Verificar se a hipótese nula é rejeitada\n",
        "if p_value < alpha:\n",
        "    print(\"Rejeitamos a hipótese nula. A distribuição da pressão arterial na população não segue uma distribuição normal.\")\n",
        "else:\n",
        "    print(\"Não rejeitamos a hipótese nula. A distribuição da pressão arterial na população segue uma distribuição normal.\")\n"
      ],
      "metadata": {
        "id": "nkFAYjO_nXBD",
        "colab": {
          "base_uri": "https://localhost:8080/"
        },
        "outputId": "79039d24-50b7-4190-bd18-70fb0c279ea4"
      },
      "execution_count": null,
      "outputs": [
        {
          "output_type": "stream",
          "name": "stdout",
          "text": [
            "Estatística de Shapiro-Wilk: 1.00\n",
            "Valor p: 0.061\n",
            "Não rejeitamos a hipótese nula. A distribuição da pressão arterial na população segue uma distribuição normal.\n"
          ]
        }
      ]
    }
  ]
}