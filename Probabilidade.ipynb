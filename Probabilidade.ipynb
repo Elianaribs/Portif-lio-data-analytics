{
  "nbformat": 4,
  "nbformat_minor": 0,
  "metadata": {
    "colab": {
      "provenance": [],
      "authorship_tag": "ABX9TyNPzf+o+mM/JgV4CX/38kG1",
      "include_colab_link": true
    },
    "kernelspec": {
      "name": "python3",
      "display_name": "Python 3"
    },
    "language_info": {
      "name": "python"
    }
  },
  "cells": [
    {
      "cell_type": "markdown",
      "metadata": {
        "id": "view-in-github",
        "colab_type": "text"
      },
      "source": [
        "<a href=\"https://colab.research.google.com/github/Elianaribs/Portifolio-data-analytics/blob/main/Probabilidade.ipynb\" target=\"_parent\"><img src=\"https://colab.research.google.com/assets/colab-badge.svg\" alt=\"Open In Colab\"/></a>"
      ]
    },
    {
      "cell_type": "markdown",
      "source": [
        "#Você é uma pesquisadora desenvolvendo uma análise sobre as características da força de trabalho nos estados brasileiros. Responda as perguntas abaixo:\n"
      ],
      "metadata": {
        "id": "fGOszX5W14ZO"
      }
    },
    {
      "cell_type": "markdown",
      "source": [
        "##Importação de bibliotecas e arquivos"
      ],
      "metadata": {
        "id": "4-0f9qSx2DBp"
      }
    },
    {
      "cell_type": "code",
      "execution_count": null,
      "metadata": {
        "id": "VJfIj-z8-MJa"
      },
      "outputs": [],
      "source": [
        "import pandas as pd\n",
        "import numpy as np\n",
        "import matplotlib.pyplot as plt\n",
        "import seaborn as sns\n",
        "from scipy.stats import norm, binom\n",
        "from scipy import stats"
      ]
    },
    {
      "cell_type": "code",
      "source": [
        "df = pd.read_csv('populacao_brasileira.csv.csv')\n",
        "df.head()"
      ],
      "metadata": {
        "colab": {
          "base_uri": "https://localhost:8080/",
          "height": 206
        },
        "id": "DJsJ81Ju-p1L",
        "outputId": "34183ea3-d30b-4ef4-ac52-0f696df8da67"
      },
      "execution_count": null,
      "outputs": [
        {
          "output_type": "execute_result",
          "data": {
            "text/plain": [
              "   Unnamed: 0 estado  idade escolaridade nível de proficiência em inglês  \\\n",
              "0           0     MA     56  Fundamental                   Intermediário   \n",
              "1           1     BA     46     Superior                          Básico   \n",
              "2           2     AM     32  Fundamental                   Intermediário   \n",
              "3           3     CE     60     Superior                          Básico   \n",
              "4           4     SE     25  Fundamental                        Avançado   \n",
              "\n",
              "     renda sexo  \n",
              "0  4006.29    F  \n",
              "1  2423.11    M  \n",
              "2  3835.69    M  \n",
              "3  1870.29    M  \n",
              "4  3529.80    M  "
            ],
            "text/html": [
              "\n",
              "  <div id=\"df-78c8c22d-f5d3-472c-b2f7-82121dcc3f44\" class=\"colab-df-container\">\n",
              "    <div>\n",
              "<style scoped>\n",
              "    .dataframe tbody tr th:only-of-type {\n",
              "        vertical-align: middle;\n",
              "    }\n",
              "\n",
              "    .dataframe tbody tr th {\n",
              "        vertical-align: top;\n",
              "    }\n",
              "\n",
              "    .dataframe thead th {\n",
              "        text-align: right;\n",
              "    }\n",
              "</style>\n",
              "<table border=\"1\" class=\"dataframe\">\n",
              "  <thead>\n",
              "    <tr style=\"text-align: right;\">\n",
              "      <th></th>\n",
              "      <th>Unnamed: 0</th>\n",
              "      <th>estado</th>\n",
              "      <th>idade</th>\n",
              "      <th>escolaridade</th>\n",
              "      <th>nível de proficiência em inglês</th>\n",
              "      <th>renda</th>\n",
              "      <th>sexo</th>\n",
              "    </tr>\n",
              "  </thead>\n",
              "  <tbody>\n",
              "    <tr>\n",
              "      <th>0</th>\n",
              "      <td>0</td>\n",
              "      <td>MA</td>\n",
              "      <td>56</td>\n",
              "      <td>Fundamental</td>\n",
              "      <td>Intermediário</td>\n",
              "      <td>4006.29</td>\n",
              "      <td>F</td>\n",
              "    </tr>\n",
              "    <tr>\n",
              "      <th>1</th>\n",
              "      <td>1</td>\n",
              "      <td>BA</td>\n",
              "      <td>46</td>\n",
              "      <td>Superior</td>\n",
              "      <td>Básico</td>\n",
              "      <td>2423.11</td>\n",
              "      <td>M</td>\n",
              "    </tr>\n",
              "    <tr>\n",
              "      <th>2</th>\n",
              "      <td>2</td>\n",
              "      <td>AM</td>\n",
              "      <td>32</td>\n",
              "      <td>Fundamental</td>\n",
              "      <td>Intermediário</td>\n",
              "      <td>3835.69</td>\n",
              "      <td>M</td>\n",
              "    </tr>\n",
              "    <tr>\n",
              "      <th>3</th>\n",
              "      <td>3</td>\n",
              "      <td>CE</td>\n",
              "      <td>60</td>\n",
              "      <td>Superior</td>\n",
              "      <td>Básico</td>\n",
              "      <td>1870.29</td>\n",
              "      <td>M</td>\n",
              "    </tr>\n",
              "    <tr>\n",
              "      <th>4</th>\n",
              "      <td>4</td>\n",
              "      <td>SE</td>\n",
              "      <td>25</td>\n",
              "      <td>Fundamental</td>\n",
              "      <td>Avançado</td>\n",
              "      <td>3529.80</td>\n",
              "      <td>M</td>\n",
              "    </tr>\n",
              "  </tbody>\n",
              "</table>\n",
              "</div>\n",
              "    <div class=\"colab-df-buttons\">\n",
              "\n",
              "  <div class=\"colab-df-container\">\n",
              "    <button class=\"colab-df-convert\" onclick=\"convertToInteractive('df-78c8c22d-f5d3-472c-b2f7-82121dcc3f44')\"\n",
              "            title=\"Convert this dataframe to an interactive table.\"\n",
              "            style=\"display:none;\">\n",
              "\n",
              "  <svg xmlns=\"http://www.w3.org/2000/svg\" height=\"24px\" viewBox=\"0 -960 960 960\">\n",
              "    <path d=\"M120-120v-720h720v720H120Zm60-500h600v-160H180v160Zm220 220h160v-160H400v160Zm0 220h160v-160H400v160ZM180-400h160v-160H180v160Zm440 0h160v-160H620v160ZM180-180h160v-160H180v160Zm440 0h160v-160H620v160Z\"/>\n",
              "  </svg>\n",
              "    </button>\n",
              "\n",
              "  <style>\n",
              "    .colab-df-container {\n",
              "      display:flex;\n",
              "      gap: 12px;\n",
              "    }\n",
              "\n",
              "    .colab-df-convert {\n",
              "      background-color: #E8F0FE;\n",
              "      border: none;\n",
              "      border-radius: 50%;\n",
              "      cursor: pointer;\n",
              "      display: none;\n",
              "      fill: #1967D2;\n",
              "      height: 32px;\n",
              "      padding: 0 0 0 0;\n",
              "      width: 32px;\n",
              "    }\n",
              "\n",
              "    .colab-df-convert:hover {\n",
              "      background-color: #E2EBFA;\n",
              "      box-shadow: 0px 1px 2px rgba(60, 64, 67, 0.3), 0px 1px 3px 1px rgba(60, 64, 67, 0.15);\n",
              "      fill: #174EA6;\n",
              "    }\n",
              "\n",
              "    .colab-df-buttons div {\n",
              "      margin-bottom: 4px;\n",
              "    }\n",
              "\n",
              "    [theme=dark] .colab-df-convert {\n",
              "      background-color: #3B4455;\n",
              "      fill: #D2E3FC;\n",
              "    }\n",
              "\n",
              "    [theme=dark] .colab-df-convert:hover {\n",
              "      background-color: #434B5C;\n",
              "      box-shadow: 0px 1px 3px 1px rgba(0, 0, 0, 0.15);\n",
              "      filter: drop-shadow(0px 1px 2px rgba(0, 0, 0, 0.3));\n",
              "      fill: #FFFFFF;\n",
              "    }\n",
              "  </style>\n",
              "\n",
              "    <script>\n",
              "      const buttonEl =\n",
              "        document.querySelector('#df-78c8c22d-f5d3-472c-b2f7-82121dcc3f44 button.colab-df-convert');\n",
              "      buttonEl.style.display =\n",
              "        google.colab.kernel.accessAllowed ? 'block' : 'none';\n",
              "\n",
              "      async function convertToInteractive(key) {\n",
              "        const element = document.querySelector('#df-78c8c22d-f5d3-472c-b2f7-82121dcc3f44');\n",
              "        const dataTable =\n",
              "          await google.colab.kernel.invokeFunction('convertToInteractive',\n",
              "                                                    [key], {});\n",
              "        if (!dataTable) return;\n",
              "\n",
              "        const docLinkHtml = 'Like what you see? Visit the ' +\n",
              "          '<a target=\"_blank\" href=https://colab.research.google.com/notebooks/data_table.ipynb>data table notebook</a>'\n",
              "          + ' to learn more about interactive tables.';\n",
              "        element.innerHTML = '';\n",
              "        dataTable['output_type'] = 'display_data';\n",
              "        await google.colab.output.renderOutput(dataTable, element);\n",
              "        const docLink = document.createElement('div');\n",
              "        docLink.innerHTML = docLinkHtml;\n",
              "        element.appendChild(docLink);\n",
              "      }\n",
              "    </script>\n",
              "  </div>\n",
              "\n",
              "\n",
              "<div id=\"df-0957dbb9-62ba-46dd-b640-f36dce954b04\">\n",
              "  <button class=\"colab-df-quickchart\" onclick=\"quickchart('df-0957dbb9-62ba-46dd-b640-f36dce954b04')\"\n",
              "            title=\"Suggest charts\"\n",
              "            style=\"display:none;\">\n",
              "\n",
              "<svg xmlns=\"http://www.w3.org/2000/svg\" height=\"24px\"viewBox=\"0 0 24 24\"\n",
              "     width=\"24px\">\n",
              "    <g>\n",
              "        <path d=\"M19 3H5c-1.1 0-2 .9-2 2v14c0 1.1.9 2 2 2h14c1.1 0 2-.9 2-2V5c0-1.1-.9-2-2-2zM9 17H7v-7h2v7zm4 0h-2V7h2v10zm4 0h-2v-4h2v4z\"/>\n",
              "    </g>\n",
              "</svg>\n",
              "  </button>\n",
              "\n",
              "<style>\n",
              "  .colab-df-quickchart {\n",
              "      --bg-color: #E8F0FE;\n",
              "      --fill-color: #1967D2;\n",
              "      --hover-bg-color: #E2EBFA;\n",
              "      --hover-fill-color: #174EA6;\n",
              "      --disabled-fill-color: #AAA;\n",
              "      --disabled-bg-color: #DDD;\n",
              "  }\n",
              "\n",
              "  [theme=dark] .colab-df-quickchart {\n",
              "      --bg-color: #3B4455;\n",
              "      --fill-color: #D2E3FC;\n",
              "      --hover-bg-color: #434B5C;\n",
              "      --hover-fill-color: #FFFFFF;\n",
              "      --disabled-bg-color: #3B4455;\n",
              "      --disabled-fill-color: #666;\n",
              "  }\n",
              "\n",
              "  .colab-df-quickchart {\n",
              "    background-color: var(--bg-color);\n",
              "    border: none;\n",
              "    border-radius: 50%;\n",
              "    cursor: pointer;\n",
              "    display: none;\n",
              "    fill: var(--fill-color);\n",
              "    height: 32px;\n",
              "    padding: 0;\n",
              "    width: 32px;\n",
              "  }\n",
              "\n",
              "  .colab-df-quickchart:hover {\n",
              "    background-color: var(--hover-bg-color);\n",
              "    box-shadow: 0 1px 2px rgba(60, 64, 67, 0.3), 0 1px 3px 1px rgba(60, 64, 67, 0.15);\n",
              "    fill: var(--button-hover-fill-color);\n",
              "  }\n",
              "\n",
              "  .colab-df-quickchart-complete:disabled,\n",
              "  .colab-df-quickchart-complete:disabled:hover {\n",
              "    background-color: var(--disabled-bg-color);\n",
              "    fill: var(--disabled-fill-color);\n",
              "    box-shadow: none;\n",
              "  }\n",
              "\n",
              "  .colab-df-spinner {\n",
              "    border: 2px solid var(--fill-color);\n",
              "    border-color: transparent;\n",
              "    border-bottom-color: var(--fill-color);\n",
              "    animation:\n",
              "      spin 1s steps(1) infinite;\n",
              "  }\n",
              "\n",
              "  @keyframes spin {\n",
              "    0% {\n",
              "      border-color: transparent;\n",
              "      border-bottom-color: var(--fill-color);\n",
              "      border-left-color: var(--fill-color);\n",
              "    }\n",
              "    20% {\n",
              "      border-color: transparent;\n",
              "      border-left-color: var(--fill-color);\n",
              "      border-top-color: var(--fill-color);\n",
              "    }\n",
              "    30% {\n",
              "      border-color: transparent;\n",
              "      border-left-color: var(--fill-color);\n",
              "      border-top-color: var(--fill-color);\n",
              "      border-right-color: var(--fill-color);\n",
              "    }\n",
              "    40% {\n",
              "      border-color: transparent;\n",
              "      border-right-color: var(--fill-color);\n",
              "      border-top-color: var(--fill-color);\n",
              "    }\n",
              "    60% {\n",
              "      border-color: transparent;\n",
              "      border-right-color: var(--fill-color);\n",
              "    }\n",
              "    80% {\n",
              "      border-color: transparent;\n",
              "      border-right-color: var(--fill-color);\n",
              "      border-bottom-color: var(--fill-color);\n",
              "    }\n",
              "    90% {\n",
              "      border-color: transparent;\n",
              "      border-bottom-color: var(--fill-color);\n",
              "    }\n",
              "  }\n",
              "</style>\n",
              "\n",
              "  <script>\n",
              "    async function quickchart(key) {\n",
              "      const quickchartButtonEl =\n",
              "        document.querySelector('#' + key + ' button');\n",
              "      quickchartButtonEl.disabled = true;  // To prevent multiple clicks.\n",
              "      quickchartButtonEl.classList.add('colab-df-spinner');\n",
              "      try {\n",
              "        const charts = await google.colab.kernel.invokeFunction(\n",
              "            'suggestCharts', [key], {});\n",
              "      } catch (error) {\n",
              "        console.error('Error during call to suggestCharts:', error);\n",
              "      }\n",
              "      quickchartButtonEl.classList.remove('colab-df-spinner');\n",
              "      quickchartButtonEl.classList.add('colab-df-quickchart-complete');\n",
              "    }\n",
              "    (() => {\n",
              "      let quickchartButtonEl =\n",
              "        document.querySelector('#df-0957dbb9-62ba-46dd-b640-f36dce954b04 button');\n",
              "      quickchartButtonEl.style.display =\n",
              "        google.colab.kernel.accessAllowed ? 'block' : 'none';\n",
              "    })();\n",
              "  </script>\n",
              "</div>\n",
              "\n",
              "    </div>\n",
              "  </div>\n"
            ],
            "application/vnd.google.colaboratory.intrinsic+json": {
              "type": "dataframe",
              "variable_name": "df",
              "summary": "{\n  \"name\": \"df\",\n  \"rows\": 1000,\n  \"fields\": [\n    {\n      \"column\": \"Unnamed: 0\",\n      \"properties\": {\n        \"dtype\": \"number\",\n        \"std\": 288,\n        \"min\": 0,\n        \"max\": 999,\n        \"num_unique_values\": 1000,\n        \"samples\": [\n          521,\n          737,\n          740\n        ],\n        \"semantic_type\": \"\",\n        \"description\": \"\"\n      }\n    },\n    {\n      \"column\": \"estado\",\n      \"properties\": {\n        \"dtype\": \"category\",\n        \"num_unique_values\": 27,\n        \"samples\": [\n          \"AC\",\n          \"PA\",\n          \"SC\"\n        ],\n        \"semantic_type\": \"\",\n        \"description\": \"\"\n      }\n    },\n    {\n      \"column\": \"idade\",\n      \"properties\": {\n        \"dtype\": \"number\",\n        \"std\": 13,\n        \"min\": 18,\n        \"max\": 64,\n        \"num_unique_values\": 47,\n        \"samples\": [\n          24,\n          48,\n          54\n        ],\n        \"semantic_type\": \"\",\n        \"description\": \"\"\n      }\n    },\n    {\n      \"column\": \"escolaridade\",\n      \"properties\": {\n        \"dtype\": \"category\",\n        \"num_unique_values\": 4,\n        \"samples\": [\n          \"Superior\",\n          \"P\\u00f3s-gradua\\u00e7\\u00e3o\",\n          \"Fundamental\"\n        ],\n        \"semantic_type\": \"\",\n        \"description\": \"\"\n      }\n    },\n    {\n      \"column\": \"n\\u00edvel de profici\\u00eancia em ingl\\u00eas\",\n      \"properties\": {\n        \"dtype\": \"category\",\n        \"num_unique_values\": 3,\n        \"samples\": [\n          \"Intermedi\\u00e1rio\",\n          \"B\\u00e1sico\",\n          \"Avan\\u00e7ado\"\n        ],\n        \"semantic_type\": \"\",\n        \"description\": \"\"\n      }\n    },\n    {\n      \"column\": \"renda\",\n      \"properties\": {\n        \"dtype\": \"number\",\n        \"std\": 996.572239312141,\n        \"min\": 103.74,\n        \"max\": 5632.38,\n        \"num_unique_values\": 998,\n        \"samples\": [\n          2752.82,\n          4218.76,\n          2244.62\n        ],\n        \"semantic_type\": \"\",\n        \"description\": \"\"\n      }\n    },\n    {\n      \"column\": \"sexo\",\n      \"properties\": {\n        \"dtype\": \"category\",\n        \"num_unique_values\": 2,\n        \"samples\": [\n          \"M\",\n          \"F\"\n        ],\n        \"semantic_type\": \"\",\n        \"description\": \"\"\n      }\n    }\n  ]\n}"
            }
          },
          "metadata": {},
          "execution_count": 3
        }
      ]
    },
    {
      "cell_type": "markdown",
      "source": [
        "##1. Considere pessoas fluentes em inglês, qual a probabilidade complementar? Ou seja, qual a probabilidade de escolhermos uma pessoa aleatória e ela não ser fluente em inglês. Considere fluente quem tem o nível avançado.\n"
      ],
      "metadata": {
        "id": "8g4SMkJ92Nox"
      }
    },
    {
      "cell_type": "code",
      "source": [
        "# Filtrar fluentes em inglês\n",
        "quant_pessoas = len(df)\n",
        "fluencia_ingles = df[df['nível de proficiência em inglês'] == 'Avançado'].shape[0]\n",
        "\n",
        "# Calculo probsbilidade complementar\n",
        "probabilidade_fluencia = fluencia_ingles / quant_pessoas\n",
        "complementar = (1 - probabilidade_fluencia) * 100\n",
        "print(f'A probabilidade complementar é de {complementar:.2f}%')"
      ],
      "metadata": {
        "colab": {
          "base_uri": "https://localhost:8080/"
        },
        "id": "2UZlo_J52KCt",
        "outputId": "3e33fd21-9ca4-45ab-daa5-6ea5534b9daa"
      },
      "execution_count": null,
      "outputs": [
        {
          "output_type": "stream",
          "name": "stdout",
          "text": [
            "A probabilidade complementar é de 65.60%\n"
          ]
        }
      ]
    },
    {
      "cell_type": "markdown",
      "source": [
        "##2. Se uma pessoa escolhida aleatoriamente for de Alagoas ou do Pará, qual é a probabilidade de ela ter uma renda superior a 5 mil reais?"
      ],
      "metadata": {
        "id": "m5Qcf8Cf2X1s"
      }
    },
    {
      "cell_type": "code",
      "source": [
        "# Filtrar pessoas de Alagoas ou Pará\n",
        "alagoas_para =  df[(df['estado'] == 'AL') | (df['estado'] == 'PA')]\n",
        "\n",
        "# Filtrar quantas pessoas de Alagoas ou Pará tem denda maior que 5k\n",
        "renda_superior_5k = alagoas_para[alagoas_para['renda'] > 5000].shape[0]\n",
        "\n",
        "# Calculo probabilidade\n",
        "probabilidade = (renda_superior_5k / len(alagoas_para)) * 100\n",
        "print(f'A probabilidade de uma pessoa de Alagoas ou Pará ter uma renda superior a 5 mil reais é de {probabilidade:.2f}%')"
      ],
      "metadata": {
        "colab": {
          "base_uri": "https://localhost:8080/"
        },
        "id": "jtSSo28j2p3I",
        "outputId": "bbeee970-46c2-4c03-8600-634b3bc67fc9"
      },
      "execution_count": null,
      "outputs": [
        {
          "output_type": "stream",
          "name": "stdout",
          "text": [
            "A probabilidade de uma pessoa de Alagoas ou Pará ter uma renda superior a 5 mil reais é de 5.06%\n"
          ]
        }
      ]
    },
    {
      "cell_type": "markdown",
      "source": [
        "##3. Descubra a probabilidade de uma pessoa ter ensino superior completo no estado do Amazonas. Qual a probabilidade da quinta pessoa que você conversar, que é amazonense, ter ensino superior completo?\n"
      ],
      "metadata": {
        "id": "N1KwQQFq2qmu"
      }
    },
    {
      "cell_type": "code",
      "source": [
        "# Filtrar todos os amazonenses\n",
        "amazonenses = df[df['estado'] == 'AM']\n",
        "\n",
        "# Filtrar Amazonenses com ensino superior\n",
        "sup_amazonas = df[(df['estado'] == 'AM') & (df['escolaridade'].isin(['Superior', 'Pós-graduação']))].shape[0]\n",
        "\n",
        "# Probabilidade de um amazonense com ensino superior\n",
        "probabilidade = (sup_amazonas / len(amazonenses)) * 100\n",
        "\n",
        "# Probabilidade do quinto amazonense ter ensino superior\n",
        "prob_5_pessoa = stats.geom.pmf(k= 5, p=probabilidade/100) * 100\n",
        "\n",
        "print(f'A probabilidade de uma pessoa ter ensino superior completo no estado do Amazonas é de {prob_5_pessoa:.2f}%')"
      ],
      "metadata": {
        "id": "nCAgFnkN229t",
        "colab": {
          "base_uri": "https://localhost:8080/"
        },
        "outputId": "65dcf1e2-93cb-436e-962c-94174d0f1b6a"
      },
      "execution_count": null,
      "outputs": [
        {
          "output_type": "stream",
          "name": "stdout",
          "text": [
            "A probabilidade de uma pessoa ter ensino superior completo no estado do Amazonas é de 2.21%\n"
          ]
        }
      ]
    },
    {
      "cell_type": "markdown",
      "source": [
        "##4. Considerando a renda das pessoas do nosso conjunto, podemos dizer que a renda de uma pessoa brasileira está na sua maioria em que faixa (faça faixa de 1.500 reais)? Qual é a sua função densidade de probabilidade?\n"
      ],
      "metadata": {
        "id": "A4JXbh6U23cL"
      }
    },
    {
      "cell_type": "code",
      "source": [
        "# Criar faixas de renda\n",
        "df['faixa_renda'] = pd.cut(df['renda'], bins=np.arange(0, df['renda'].max() + 1500, 1500))\n",
        "\n",
        "# Contar a quantidade de pessoas em cada faixa de renda\n",
        "contagem_faixas = df['faixa_renda'].value_counts()\n",
        "\n",
        "# Encontrar a faixa com maior quantidade de pessoas\n",
        "faixa_mais_frequente = contagem_faixas.idxmax()\n",
        "\n",
        "print(f'A maioria das pessoas brasileiras possui renda na faixa: {faixa_mais_frequente}')"
      ],
      "metadata": {
        "id": "pGuTBLOP3D0Q",
        "colab": {
          "base_uri": "https://localhost:8080/"
        },
        "outputId": "89aefe69-d7d7-4bdd-d528-50c36e35bf5e"
      },
      "execution_count": null,
      "outputs": [
        {
          "output_type": "stream",
          "name": "stdout",
          "text": [
            "A maioria das pessoas brasileiras possui renda na faixa: (3000.0, 4500.0]\n"
          ]
        }
      ]
    },
    {
      "cell_type": "code",
      "source": [
        "# Plotar a função densidade de probabilidade\n",
        "sns.displot(df['renda'], kde=True)\n",
        "plt.title('Função Densidade de Probabilidade da Renda')\n",
        "plt.xlabel('Renda')\n",
        "plt.ylabel('Densidade de Probabilidade')\n",
        "plt.show()"
      ],
      "metadata": {
        "colab": {
          "base_uri": "https://localhost:8080/",
          "height": 529
        },
        "id": "6xxW5eSwAn1v",
        "outputId": "9779f545-925f-48e4-f04e-99a3d53d082b"
      },
      "execution_count": null,
      "outputs": [
        {
          "output_type": "display_data",
          "data": {
            "text/plain": [
              "<Figure size 500x500 with 1 Axes>"
            ],
            "image/png": "[encoded data removed]"
          },
          "metadata": {}
        }
      ]
    },
    {
      "cell_type": "markdown",
      "source": [
        "##5. Calcule a média e a variância da renda da amostra. Depois faça a distribuição normal, inclua o gráfico.\n"
      ],
      "metadata": {
        "id": "owVG3fyI3EPA"
      }
    },
    {
      "cell_type": "code",
      "source": [
        "# Calcular a média e a variância da renda\n",
        "media_renda = df['renda'].mean()\n",
        "variancia_renda = df['renda'].var()\n",
        "\n",
        "print(f'A média da renda da amostra é: {media_renda:.2f}')\n",
        "print(f'A variância da renda da amostra é: {variancia_renda:.2f}')"
      ],
      "metadata": {
        "id": "6bkGjiSq3LNR",
        "colab": {
          "base_uri": "https://localhost:8080/"
        },
        "outputId": "0fb1c0f6-53ae-4c58-db3a-64a414b5633c"
      },
      "execution_count": null,
      "outputs": [
        {
          "output_type": "stream",
          "name": "stdout",
          "text": [
            "A média da renda da amostra é: 3082.54\n",
            "A variância da renda da amostra é: 993156.23\n"
          ]
        }
      ]
    },
    {
      "cell_type": "code",
      "source": [
        "# Criar a distribuição normal\n",
        "x = np.linspace(df['renda'].min(), df['renda'].max(), 100)\n",
        "y = norm.pdf(x, loc=media_renda, scale=np.sqrt(variancia_renda))\n",
        "\n",
        "# Plotar o gráfico da distribuição normal\n",
        "plt.plot(x, y)\n",
        "plt.xlabel('Renda')\n",
        "plt.ylabel('Densidade de Probabilidade')\n",
        "plt.title('Distribuição Normal da Renda')\n",
        "plt.show()"
      ],
      "metadata": {
        "colab": {
          "base_uri": "https://localhost:8080/",
          "height": 472
        },
        "id": "UlLuDpQIeMPK",
        "outputId": "9c7e9a4a-46cc-4619-81f1-312d02280a2a"
      },
      "execution_count": null,
      "outputs": [
        {
          "output_type": "display_data",
          "data": {
            "text/plain": [
              "<Figure size 640x480 with 1 Axes>"
            ],
            "image/png": "[encoded data removed]"
          },
          "metadata": {}
        }
      ]
    },
    {
      "cell_type": "markdown",
      "source": [
        "##6. Primeiro considere a probabilidade encontrada no nosso conjunto de pessoas com escolaridade de pós-graduação. Considerando a amostra de população brasileira com 1 milhão de habitantes, qual a probabilidade de encontrarmos 243 mil pessoas com pós-graduação?\n"
      ],
      "metadata": {
        "id": "Iywd5xyJ3Lq8"
      }
    },
    {
      "cell_type": "code",
      "source": [
        "# Filtrar pessoas com pós-graduação\n",
        "pos_graduacao = df[df['escolaridade'] == 'Pós-graduação'].shape[0]\n",
        "\n",
        "# Probabilidade de uma pessoa ter pós-graduação\n",
        "probabilidade_pos_graduacao = pos_graduacao / len(df)\n",
        "\n",
        "# Calcular a probabilidade de encontrarmos 243 mil pessoas com pós-graduação em uma amostra de 1 milhão\n",
        "n = 1000000  # Tamanho da amostra\n",
        "k = 243000  # Número de sucessos\n",
        "p = probabilidade_pos_graduacao  # Probabilidade de sucesso\n",
        "\n",
        "# Calcular a probabilidade usando a fórmula da distribuição binomial\n",
        "probabilidade = binom.pmf(k, n, p)\n",
        "\n",
        "print(f'A probabilidade de encontrarmos 243 mil pessoas com pós-graduação em uma amostra de 1 milhão é: {probabilidade:.6}')"
      ],
      "metadata": {
        "id": "V5YyWqc53bHV",
        "colab": {
          "base_uri": "https://localhost:8080/"
        },
        "outputId": "363abfb2-8451-4306-8dd0-f7dfc0054f63"
      },
      "execution_count": null,
      "outputs": [
        {
          "output_type": "stream",
          "name": "stdout",
          "text": [
            "A probabilidade de encontrarmos 243 mil pessoas com pós-graduação em uma amostra de 1 milhão é: 1.11049e-119\n"
          ]
        }
      ]
    },
    {
      "cell_type": "markdown",
      "source": [
        "##7. Somando as densidades nós temos a função de densidade acumulada. Considerando a coluna ‘Escolaridade’ faça a função de densidade acumulada discreta para cada nível de escolaridade."
      ],
      "metadata": {
        "id": "s9WnFZuf3b02"
      }
    },
    {
      "cell_type": "code",
      "source": [
        "# Calcular a frequência relativa de cada nível de escolaridade\n",
        "freq_relativa = df['escolaridade'].value_counts(normalize=True)\n",
        "\n",
        "# Criar a função de densidade acumulada (CDF)\n",
        "cdf = freq_relativa.cumsum()\n",
        "\n",
        "print(\"Função de Densidade Acumulada (CDF) para a coluna 'Escolaridade':\")\n",
        "print(cdf)\n"
      ],
      "metadata": {
        "id": "YGcLCA6y3lKD",
        "colab": {
          "base_uri": "https://localhost:8080/"
        },
        "outputId": "d563fd37-d527-45f4-f0a7-7888f5854a6b"
      },
      "execution_count": null,
      "outputs": [
        {
          "output_type": "stream",
          "name": "stdout",
          "text": [
            "Função de Densidade Acumulada (CDF) para a coluna 'Escolaridade':\n",
            "escolaridade\n",
            "Fundamental      0.266\n",
            "Pós-graduação    0.519\n",
            "Superior         0.762\n",
            "Médio            1.000\n",
            "Name: proportion, dtype: float64\n"
          ]
        }
      ]
    },
    {
      "cell_type": "markdown",
      "source": [
        "##8. Qual a margem de erro amostral da proporção populacional considerando a proporção de pessoas com nível de inglês intermediário?\n"
      ],
      "metadata": {
        "id": "5ArRIYtF3l13"
      }
    },
    {
      "cell_type": "code",
      "source": [
        "# Filtrar pessoas com nível de inglês intermediário\n",
        "ingles_intermediario = df[df['nível de proficiência em inglês'] == 'Intermediário'].shape[0]\n",
        "\n",
        "# Proporção de pessoas com nível de inglês intermediário\n",
        "proporcao_intermediario = ingles_intermediario / len(df)\n",
        "\n",
        "# Nível de confiança (95%)\n",
        "nivel_confianca = 0.95\n",
        "\n",
        "# Calcular o z-score para o nível de confiança desejado\n",
        "z_score = stats.norm.ppf((1 + nivel_confianca) / 2)\n",
        "\n",
        "# Calcular a margem de erro\n",
        "margem_erro = z_score * np.sqrt((proporcao_intermediario * (1 - proporcao_intermediario)) / len(df))\n",
        "\n",
        "print(f\"A margem de erro amostral da proporção populacional considerando a proporção de pessoas com nível de inglês intermediário é: {margem_erro:.4f}\")\n"
      ],
      "metadata": {
        "id": "SyZYAHtl3vv_",
        "colab": {
          "base_uri": "https://localhost:8080/"
        },
        "outputId": "615605dc-159f-47af-cbf7-e24992be8db5"
      },
      "execution_count": null,
      "outputs": [
        {
          "output_type": "stream",
          "name": "stdout",
          "text": [
            "A margem de erro amostral da proporção populacional considerando a proporção de pessoas com nível de inglês intermediário é: 0.0291\n"
          ]
        }
      ]
    },
    {
      "cell_type": "markdown",
      "source": [
        "##9. Calcula a renda da população. Qual a probabilidade de encontrar 60 pessoas com uma renda mil reais superior à média?"
      ],
      "metadata": {
        "id": "G0yvuuC43xXm"
      }
    },
    {
      "cell_type": "code",
      "source": [
        "# Calcular a média da renda\n",
        "media_renda = df['renda'].mean()\n",
        "\n",
        "# Filtrar pessoas com renda 1000 reais superior à média\n",
        "pessoas_acima_media = df[df['renda'] > (media_renda + 1000)].shape[0]\n",
        "\n",
        "# Probabilidade de uma pessoa ter renda 1000 reais superior à média\n",
        "probabilidade_acima_media = pessoas_acima_media / len(df)\n",
        "\n",
        "probabilidade_acima_media\n",
        "\n",
        "# Calcular a probabilidade de encontrar 60 pessoas com renda 1000 reais superior à média\n",
        "n = len(df)  # Tamanho da amostra\n",
        "k = 60  # Número de sucessos\n",
        "p = probabilidade_acima_media  # Probabilidade de sucesso\n",
        "\n",
        "# Calcular a probabilidade usando a fórmula da distribuição binomial\n",
        "probabilidade = binom.pmf(k, n, p)\n",
        "\n",
        "print(f'A probabilidade de encontrar 60 pessoas com uma renda mil reais superior à média é: {probabilidade}')"
      ],
      "metadata": {
        "colab": {
          "base_uri": "https://localhost:8080/"
        },
        "id": "mlv_03rPPWPY",
        "outputId": "c425455d-df5d-43a1-e9ae-0ef94bd6b7a8"
      },
      "execution_count": null,
      "outputs": [
        {
          "output_type": "stream",
          "name": "stdout",
          "text": [
            "A probabilidade de encontrar 60 pessoas com uma renda mil reais superior à média é: 1.099520565163774e-22\n"
          ]
        }
      ]
    },
    {
      "cell_type": "markdown",
      "source": [
        "##10. Qual a probabilidade de escolhermos alguém do Sudeste que seja homem, com ensino fundamental e com renda maior que 2 mil reais por mês?"
      ],
      "metadata": {
        "id": "KcVzML8r353Y"
      }
    },
    {
      "cell_type": "code",
      "source": [
        "# filtrar características\n",
        "sud = df[df['estado'] == 'SE']\n",
        "sud_homem = sud[sud['sexo'] == 'M']\n",
        "sud_homem_fund = sud_homem[sud_homem['escolaridade'] == 'Fundamental']\n",
        "sud_homem_fund_2k = sud_homem_fund[sud_homem_fund['renda'] > 2000]\n",
        "\n",
        "# Calcular probabilidade\n",
        "probabilidade = len(sud_homem_fund_2k) / len(sud)\n",
        "print(f'A probabilidade de escolhermos alguém do Sudeste que seja homem, com ensino fundamental e com renda maior que 2 mil reais por mês é de {probabilidade:.2f}%')"
      ],
      "metadata": {
        "id": "H_HpbkvG4EO6",
        "colab": {
          "base_uri": "https://localhost:8080/"
        },
        "outputId": "1a0c6549-e94f-4650-b91b-27cfb2bbc45e"
      },
      "execution_count": null,
      "outputs": [
        {
          "output_type": "stream",
          "name": "stdout",
          "text": [
            "A probabilidade de escolhermos alguém do Sudeste que seja homem, com ensino fundamental e com renda maior que 2 mil reais por mês é de 0.12%\n"
          ]
        }
      ]
    }
  ]
}